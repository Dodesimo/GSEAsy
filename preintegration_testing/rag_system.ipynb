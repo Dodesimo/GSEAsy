{
 "cells": [
  {
   "cell_type": "code",
   "id": "initial_id",
   "metadata": {
    "collapsed": true,
    "ExecuteTime": {
     "end_time": "2024-11-30T06:31:51.538515Z",
     "start_time": "2024-11-30T06:31:51.534756Z"
    }
   },
   "source": [
    "from langchain_community.tools.pubmed.tool import PubmedQueryRun\n",
    "from langchain_openai import ChatOpenAI\n",
    "import os\n",
    "from dotenv import load_dotenv\n",
    "from langchain_core.messages import HumanMessage\n",
    "from langgraph.prebuilt import create_react_agent"
   ],
   "outputs": [],
   "execution_count": 9
  },
  {
   "metadata": {
    "ExecuteTime": {
     "end_time": "2024-11-30T06:25:25.178139Z",
     "start_time": "2024-11-30T06:25:25.169468Z"
    }
   },
   "cell_type": "code",
   "source": "paper_fetcher = PubmedQueryRun()",
   "id": "2c20a092f8627cc4",
   "outputs": [],
   "execution_count": 2
  },
  {
   "metadata": {
    "ExecuteTime": {
     "end_time": "2024-11-30T06:25:25.768622Z",
     "start_time": "2024-11-30T06:25:25.765366Z"
    }
   },
   "cell_type": "code",
   "source": "tools = [paper_fetcher]",
   "id": "e19ec819548ef06",
   "outputs": [],
   "execution_count": 3
  },
  {
   "metadata": {
    "ExecuteTime": {
     "end_time": "2024-11-30T06:25:26.148780Z",
     "start_time": "2024-11-30T06:25:26.103221Z"
    }
   },
   "cell_type": "code",
   "source": [
    "load_dotenv()\n",
    "llm = ChatOpenAI(temperature=0, model=\"gpt-4o\", api_key=os.environ.get(\"KEY\"))"
   ],
   "id": "2a3338e732e2cfd7",
   "outputs": [],
   "execution_count": 4
  },
  {
   "metadata": {
    "ExecuteTime": {
     "end_time": "2024-11-30T06:25:26.523729Z",
     "start_time": "2024-11-30T06:25:26.432156Z"
    }
   },
   "cell_type": "code",
   "source": "tooled_model = llm.bind_tools(tools)",
   "id": "4913cc2d31a3d5e",
   "outputs": [],
   "execution_count": 5
  },
  {
   "metadata": {
    "ExecuteTime": {
     "end_time": "2024-11-30T06:25:28.770218Z",
     "start_time": "2024-11-30T06:25:26.763679Z"
    }
   },
   "cell_type": "code",
   "source": "response = tooled_model.invoke([HumanMessage(content=\"Can you tell me the effects of opiates?\")])",
   "id": "8c46aacedeaf978e",
   "outputs": [],
   "execution_count": 6
  },
  {
   "metadata": {
    "ExecuteTime": {
     "end_time": "2024-11-30T06:25:28.775794Z",
     "start_time": "2024-11-30T06:25:28.772600Z"
    }
   },
   "cell_type": "code",
   "source": [
    "print(response)\n",
    "print(response.content)"
   ],
   "id": "fb6caf7c7fc1bf65",
   "outputs": [
    {
     "name": "stdout",
     "output_type": "stream",
     "text": [
      "content='' additional_kwargs={'tool_calls': [{'id': 'call_uRGjlVQ59IApq0mtwzOEhya3', 'function': {'arguments': '{\"query\":\"effects of opiates\"}', 'name': 'pub_med'}, 'type': 'function'}], 'refusal': None} response_metadata={'token_usage': {'completion_tokens': 18, 'prompt_tokens': 92, 'total_tokens': 110, 'completion_tokens_details': {'accepted_prediction_tokens': 0, 'audio_tokens': 0, 'reasoning_tokens': 0, 'rejected_prediction_tokens': 0}, 'prompt_tokens_details': {'audio_tokens': 0, 'cached_tokens': 0}}, 'model_name': 'gpt-4o-2024-08-06', 'system_fingerprint': 'fp_831e067d82', 'finish_reason': 'tool_calls', 'logprobs': None} id='run-6bd22c65-3b1f-4271-840e-3ffdcec618ea-0' tool_calls=[{'name': 'pub_med', 'args': {'query': 'effects of opiates'}, 'id': 'call_uRGjlVQ59IApq0mtwzOEhya3', 'type': 'tool_call'}] usage_metadata={'input_tokens': 92, 'output_tokens': 18, 'total_tokens': 110, 'input_token_details': {'audio': 0, 'cache_read': 0}, 'output_token_details': {'audio': 0, 'reasoning': 0}}\n",
      "\n"
     ]
    }
   ],
   "execution_count": 7
  },
  {
   "metadata": {
    "ExecuteTime": {
     "end_time": "2024-11-30T06:32:07.402685Z",
     "start_time": "2024-11-30T06:32:07.388193Z"
    }
   },
   "cell_type": "code",
   "source": "agent_executor = create_react_agent(llm, tools)",
   "id": "541c8709afe2a13b",
   "outputs": [],
   "execution_count": 10
  },
  {
   "metadata": {
    "ExecuteTime": {
     "end_time": "2024-11-30T06:33:17.577314Z",
     "start_time": "2024-11-30T06:33:13.529432Z"
    }
   },
   "cell_type": "code",
   "source": "agent_executor.invoke({\"messages\": [HumanMessage(content=\"What genes inherently cause overdose?\")]})    ",
   "id": "dbcdb3ffac123ae6",
   "outputs": [
    {
     "name": "stdout",
     "output_type": "stream",
     "text": [
      "Too Many Requests, waiting for 0.40 seconds...\n"
     ]
    },
    {
     "data": {
      "text/plain": [
       "{'messages': [HumanMessage(content='What genes inherently cause overdose?', additional_kwargs={}, response_metadata={}, id='9ed73ae1-242f-40d1-98a6-3270294699f8'),\n",
       "  AIMessage(content='', additional_kwargs={'tool_calls': [{'id': 'call_UzfP7qc4m5Kl7vS1eWEcMa0Z', 'function': {'arguments': '{\"query\":\"genes associated with overdose risk\"}', 'name': 'pub_med'}, 'type': 'function'}], 'refusal': None}, response_metadata={'token_usage': {'completion_tokens': 18, 'prompt_tokens': 87, 'total_tokens': 105, 'completion_tokens_details': {'accepted_prediction_tokens': 0, 'audio_tokens': 0, 'reasoning_tokens': 0, 'rejected_prediction_tokens': 0}, 'prompt_tokens_details': {'audio_tokens': 0, 'cached_tokens': 0}}, 'model_name': 'gpt-4o-2024-08-06', 'system_fingerprint': 'fp_831e067d82', 'finish_reason': 'tool_calls', 'logprobs': None}, id='run-f7f82808-477c-4095-b4de-d00e3b492209-0', tool_calls=[{'name': 'pub_med', 'args': {'query': 'genes associated with overdose risk'}, 'id': 'call_UzfP7qc4m5Kl7vS1eWEcMa0Z', 'type': 'tool_call'}], usage_metadata={'input_tokens': 87, 'output_tokens': 18, 'total_tokens': 105, 'input_token_details': {'audio': 0, 'cache_read': 0}, 'output_token_details': {'audio': 0, 'reasoning': 0}}),\n",
       "  ToolMessage(content='Published: 2024-09-12\\nTitle: Association of genetic variants in CYP3A5, DRD2 and NK1R with opioid overdose.\\nCopyright Information: Copyright © 2024 The Author(s). Published by Elsevier B.V. All rights reserved.\\nSummary::\\nIn 2023, 3651 Ohioans died because of an opioid overdose. Of those opioid overdoses, 3579 (98%) of which were attributed to fentanyl. We evaluated the association between 180 candidate single nucleotide polymorphisms (SNPs) and self-reported, nonfatal opioid overdose history from a prospective sample of 1301 adult patients (≥18 years of age) seen in three urban emergency departments in Ohio. Candidate SNPs included 120 related to the dopamine reward pathway and 60 related to pharmacokinetics. Of the 821 patients who reported having been exposed to opioids in their lifetime, 95 (11.6%) also reported having experienced an opioid-related overdose. Logistic regression, adjusting for age and biologic sex, was used to characterize the association between each SNP and opioid overdose, correcting for multiple comparisons. Three SNPs, located in three different genes were associated with opioid overdose: increased odds with CYP3A5 (rs776746) and DRD2 (rs4436578), and decreased odds with NKIR (rs6715729). Homozygotic CYP3A5 (rs776746) had the highest adjusted odds ratio (OR) of 6.96 (95% CI [2.45, 29.23]) and homozygotic NK1R (rs6715729) had the lowest OR of 0.28 (95% CI [0.14, 0.54). Given that CYP3A5 (rs776746) has been associated with increased plasma concentrations of fentanyl, rs776746 could potentially be utilized as a prognostic risk indicator for the potential of an opioid overdose. NK1R regulates the expression of the neurokinin-1 receptor, a regulator of respiration and NK1R (rs6715729) represents a novel genetic marker for a decreased risk of opioid overdose risk.\\n\\nPublished: 2023-07-28\\nTitle: Association between genetic polymorphisms in fibrinogen genes and bleeding risk in patients treated with direct oral anticoagulants.\\nCopyright Information: \\n', name='pub_med', id='8cb128cf-8c2f-4dd4-8916-e007f99200d2', tool_call_id='call_UzfP7qc4m5Kl7vS1eWEcMa0Z'),\n",
       "  AIMessage(content='Certain genetic variants have been associated with an increased risk of opioid overdose. Specifically, the following genes have been identified:\\n\\n1. **CYP3A5 (rs776746)**: This gene variant is associated with increased plasma concentrations of fentanyl, which can lead to a higher risk of opioid overdose. Individuals with the homozygotic form of this variant have a significantly higher risk of overdose.\\n\\n2. **DRD2 (rs4436578)**: This gene is part of the dopamine reward pathway and is also associated with an increased risk of opioid overdose.\\n\\n3. **NK1R (rs6715729)**: This gene variant is associated with a decreased risk of opioid overdose. NK1R regulates the expression of the neurokinin-1 receptor, which is involved in respiration regulation.\\n\\nThese genetic markers can potentially be used to assess the risk of opioid overdose in individuals.', additional_kwargs={'refusal': None}, response_metadata={'token_usage': {'completion_tokens': 180, 'prompt_tokens': 599, 'total_tokens': 779, 'completion_tokens_details': {'accepted_prediction_tokens': 0, 'audio_tokens': 0, 'reasoning_tokens': 0, 'rejected_prediction_tokens': 0}, 'prompt_tokens_details': {'audio_tokens': 0, 'cached_tokens': 0}}, 'model_name': 'gpt-4o-2024-08-06', 'system_fingerprint': 'fp_7f6be3efb0', 'finish_reason': 'stop', 'logprobs': None}, id='run-df936e64-e876-402a-a9f3-e7e723e46306-0', usage_metadata={'input_tokens': 599, 'output_tokens': 180, 'total_tokens': 779, 'input_token_details': {'audio': 0, 'cache_read': 0}, 'output_token_details': {'audio': 0, 'reasoning': 0}})]}"
      ]
     },
     "execution_count": 12,
     "metadata": {},
     "output_type": "execute_result"
    }
   ],
   "execution_count": 12
  },
  {
   "metadata": {},
   "cell_type": "code",
   "outputs": [],
   "execution_count": null,
   "source": "",
   "id": "32fe004406ca2e4"
  }
 ],
 "metadata": {
  "kernelspec": {
   "display_name": "venv",
   "language": "python",
   "name": "venv"
  },
  "language_info": {
   "codemirror_mode": {
    "name": "ipython",
    "version": 2
   },
   "file_extension": ".py",
   "mimetype": "text/x-python",
   "name": "python",
   "nbconvert_exporter": "python",
   "pygments_lexer": "ipython2",
   "version": "2.7.6"
  }
 },
 "nbformat": 4,
 "nbformat_minor": 5
}
