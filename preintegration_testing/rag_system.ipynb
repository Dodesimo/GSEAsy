{
 "cells": [
  {
   "cell_type": "code",
   "id": "initial_id",
   "metadata": {
    "collapsed": true,
    "ExecuteTime": {
     "end_time": "2024-11-30T18:55:40.946776Z",
     "start_time": "2024-11-30T18:55:40.942787Z"
    }
   },
   "source": [
    "from langchain_community.tools.pubmed.tool import PubmedQueryRun\n",
    "from langchain_openai import ChatOpenAI\n",
    "import os\n",
    "from dotenv import load_dotenv\n",
    "from langchain_core.messages import HumanMessage\n",
    "from langgraph.prebuilt import create_react_agent"
   ],
   "outputs": [],
   "execution_count": 80
  },
  {
   "metadata": {
    "ExecuteTime": {
     "end_time": "2024-11-30T18:55:50.536323Z",
     "start_time": "2024-11-30T18:55:50.532415Z"
    }
   },
   "cell_type": "code",
   "source": "paper_fetcher = PubmedQueryRun()",
   "id": "2c20a092f8627cc4",
   "outputs": [],
   "execution_count": 81
  },
  {
   "metadata": {
    "ExecuteTime": {
     "end_time": "2024-11-30T18:55:51.032489Z",
     "start_time": "2024-11-30T18:55:51.029854Z"
    }
   },
   "cell_type": "code",
   "source": "tools = [paper_fetcher]",
   "id": "e19ec819548ef06",
   "outputs": [],
   "execution_count": 82
  },
  {
   "metadata": {
    "ExecuteTime": {
     "end_time": "2024-11-30T18:55:52.439214Z",
     "start_time": "2024-11-30T18:55:52.394485Z"
    }
   },
   "cell_type": "code",
   "source": [
    "load_dotenv()\n",
    "llm = ChatOpenAI(temperature=0, model=\"gpt-4o\", api_key=os.environ.get(\"KEY\"))"
   ],
   "id": "2a3338e732e2cfd7",
   "outputs": [],
   "execution_count": 83
  },
  {
   "metadata": {
    "ExecuteTime": {
     "end_time": "2024-11-30T18:55:53.513135Z",
     "start_time": "2024-11-30T18:55:53.497451Z"
    }
   },
   "cell_type": "code",
   "source": "tooled_model = llm.bind_tools(tools)",
   "id": "4913cc2d31a3d5e",
   "outputs": [],
   "execution_count": 84
  },
  {
   "metadata": {
    "ExecuteTime": {
     "end_time": "2024-11-30T18:55:55.201515Z",
     "start_time": "2024-11-30T18:55:54.662755Z"
    }
   },
   "cell_type": "code",
   "source": "response = tooled_model.invoke([HumanMessage(content=\"Can you tell me the effects of opiates?\")])",
   "id": "8c46aacedeaf978e",
   "outputs": [],
   "execution_count": 85
  },
  {
   "metadata": {
    "ExecuteTime": {
     "end_time": "2024-11-30T18:55:55.206488Z",
     "start_time": "2024-11-30T18:55:55.203177Z"
    }
   },
   "cell_type": "code",
   "source": [
    "print(response)\n",
    "print(response.content)"
   ],
   "id": "fb6caf7c7fc1bf65",
   "outputs": [
    {
     "name": "stdout",
     "output_type": "stream",
     "text": [
      "content='' additional_kwargs={'tool_calls': [{'id': 'call_1yxpId7TbS2k75WHGuOwYSlk', 'function': {'arguments': '{\"query\":\"effects of opiates\"}', 'name': 'pub_med'}, 'type': 'function'}], 'refusal': None} response_metadata={'token_usage': {'completion_tokens': 18, 'prompt_tokens': 92, 'total_tokens': 110, 'completion_tokens_details': {'accepted_prediction_tokens': 0, 'audio_tokens': 0, 'reasoning_tokens': 0, 'rejected_prediction_tokens': 0}, 'prompt_tokens_details': {'audio_tokens': 0, 'cached_tokens': 0}}, 'model_name': 'gpt-4o-2024-08-06', 'system_fingerprint': 'fp_7f6be3efb0', 'finish_reason': 'tool_calls', 'logprobs': None} id='run-b433d2e6-c600-48b8-aae4-0176d8223c78-0' tool_calls=[{'name': 'pub_med', 'args': {'query': 'effects of opiates'}, 'id': 'call_1yxpId7TbS2k75WHGuOwYSlk', 'type': 'tool_call'}] usage_metadata={'input_tokens': 92, 'output_tokens': 18, 'total_tokens': 110, 'input_token_details': {'audio': 0, 'cache_read': 0}, 'output_token_details': {'audio': 0, 'reasoning': 0}}\n",
      "\n"
     ]
    }
   ],
   "execution_count": 86
  },
  {
   "metadata": {
    "ExecuteTime": {
     "end_time": "2024-11-30T18:57:30.765706Z",
     "start_time": "2024-11-30T18:57:30.751436Z"
    }
   },
   "cell_type": "code",
   "source": "agent_executor = create_react_agent(llm, tools)",
   "id": "541c8709afe2a13b",
   "outputs": [],
   "execution_count": 87
  },
  {
   "metadata": {
    "ExecuteTime": {
     "end_time": "2024-11-30T18:57:35.362118Z",
     "start_time": "2024-11-30T18:57:31.247518Z"
    }
   },
   "cell_type": "code",
   "source": "agent_executor.invoke({\"messages\": [HumanMessage(content=\"What genes inherently cause overdose?\")]})    ",
   "id": "dbcdb3ffac123ae6",
   "outputs": [
    {
     "name": "stdout",
     "output_type": "stream",
     "text": [
      "Too Many Requests, waiting for 0.20 seconds...\n",
      "Too Many Requests, waiting for 0.40 seconds...\n"
     ]
    },
    {
     "data": {
      "text/plain": [
       "{'messages': [HumanMessage(content='What genes inherently cause overdose?', additional_kwargs={}, response_metadata={}, id='2c773b99-9d30-4ea4-8e08-ca73f19ba088'),\n",
       "  AIMessage(content='', additional_kwargs={'tool_calls': [{'id': 'call_DABKdkNZWL51jkCdXq5r4igJ', 'function': {'arguments': '{\"query\":\"genes causing overdose\"}', 'name': 'pub_med'}, 'type': 'function'}], 'refusal': None}, response_metadata={'token_usage': {'completion_tokens': 16, 'prompt_tokens': 87, 'total_tokens': 103, 'completion_tokens_details': {'accepted_prediction_tokens': 0, 'audio_tokens': 0, 'reasoning_tokens': 0, 'rejected_prediction_tokens': 0}, 'prompt_tokens_details': {'audio_tokens': 0, 'cached_tokens': 0}}, 'model_name': 'gpt-4o-2024-08-06', 'system_fingerprint': 'fp_7f6be3efb0', 'finish_reason': 'tool_calls', 'logprobs': None}, id='run-d2080533-4112-4903-b52a-b8c1d540b73b-0', tool_calls=[{'name': 'pub_med', 'args': {'query': 'genes causing overdose'}, 'id': 'call_DABKdkNZWL51jkCdXq5r4igJ', 'type': 'tool_call'}], usage_metadata={'input_tokens': 87, 'output_tokens': 16, 'total_tokens': 103, 'input_token_details': {'audio': 0, 'cache_read': 0}, 'output_token_details': {'audio': 0, 'reasoning': 0}}),\n",
       "  ToolMessage(content=\"Published: --\\nTitle: Hepatocyte-Specific HuR Protects Against Acetaminophen-Induced Liver Injury in Mice.\\nCopyright Information: © 2024 The Author(s). Journal of Cellular and Molecular Medicine published by Foundation for Cellular and Molecular Medicine and John Wiley & Sons Ltd.\\nSummary::\\nAcetaminophen (APAP) overdose is a major cause of drug-induced liver injury (DILI) in many countries. Hepatocyte proliferation, autophagy and antioxidant capacity are crucial to the prognosis of APAP-induced liver injury, but the underlying mechanisms are not fully understood. Here, we found that human antigen R (HuR) protein expression was markedly increased in the model of APAP-induced liver injury, and conditional hepatocyte-specific HuR knockout aggravated APAP-induced liver injury in mice. Further investigation of the underlying mechanisms of HuR's protective effects showed that conditional hepatocyte-specific HuR knockout reduced the protein expression of cyclin A1, cyclin B1, cyclin D1, CDK2, ATG3, ATG5, ATG7 and NRF2 in mice, reducing hepatocyte proliferation, autophagy and antioxidant capacity. Mechanistically, HuR could physically associate with the 3'-untranslated regions (UTRs) of cyclin A1, cyclin B1, cyclin D1, Cdk2, Atg3, Atg5, Atg7 and Nrf2 mRNAs, thereby regulating their translation. These findings suggest that HuR attenuates APAP-induced liver injury by regulating hepatocyte proliferation, autophagy and antioxidant capacity.\\n\\nPublished: 2024-10-29\\nTitle: {'i': ['IDO1', 'IDO2', 'TDO', 'KMO'], '#text': 'Gene Variant Frequencies of , , , and  in Substance Use Disorder Cohorts.'}\\nCopyright Information: \\nSummary::\\nBACKGROUND: Substance use disorder in the United States represents a complex and growing public health crisis, marked by increasing rates of overdose deaths and the misuse of prescription medications. There is a critical need for furthering the understanding of the molecular and genetic mechanisms that can lead to substance use disorder. Identifying signific\", name='pub_med', id='d7b573d9-6df6-4830-863a-26aeb9952d1b', tool_call_id='call_DABKdkNZWL51jkCdXq5r4igJ'),\n",
       "  AIMessage(content=\"There isn't a specific gene that inherently causes overdose, but genetic factors can influence susceptibility to substance use disorders and the body's response to drugs, which can contribute to overdose risk. For example, the study on acetaminophen (APAP) overdose highlights the role of the HuR protein in protecting against drug-induced liver injury, suggesting that genetic variations affecting HuR expression or function could influence overdose outcomes.\\n\\nAdditionally, genes like IDO1, IDO2, TDO, and KMO have been studied in the context of substance use disorders, which are linked to overdose risks. These genes are involved in metabolic pathways that can affect how substances are processed in the body, potentially impacting the likelihood of overdose.\\n\\nOverall, while no single gene causes overdose, genetic variations can affect drug metabolism, susceptibility to addiction, and the body's ability to handle toxic substances, all of which can contribute to overdose risk.\", additional_kwargs={'refusal': None}, response_metadata={'token_usage': {'completion_tokens': 179, 'prompt_tokens': 556, 'total_tokens': 735, 'completion_tokens_details': {'accepted_prediction_tokens': 0, 'audio_tokens': 0, 'reasoning_tokens': 0, 'rejected_prediction_tokens': 0}, 'prompt_tokens_details': {'audio_tokens': 0, 'cached_tokens': 0}}, 'model_name': 'gpt-4o-2024-08-06', 'system_fingerprint': 'fp_831e067d82', 'finish_reason': 'stop', 'logprobs': None}, id='run-b5920ff7-81d0-46f5-8b65-04dad350bd69-0', usage_metadata={'input_tokens': 556, 'output_tokens': 179, 'total_tokens': 735, 'input_token_details': {'audio': 0, 'cache_read': 0}, 'output_token_details': {'audio': 0, 'reasoning': 0}})]}"
      ]
     },
     "execution_count": 88,
     "metadata": {},
     "output_type": "execute_result"
    }
   ],
   "execution_count": 88
  },
  {
   "metadata": {
    "ExecuteTime": {
     "end_time": "2024-11-30T17:36:51.958777Z",
     "start_time": "2024-11-30T17:36:51.954143Z"
    }
   },
   "cell_type": "code",
   "source": "#Tool invoked, model binded to tool",
   "id": "32fe004406ca2e4",
   "outputs": [],
   "execution_count": 13
  },
  {
   "metadata": {
    "ExecuteTime": {
     "end_time": "2024-11-30T18:51:54.290001Z",
     "start_time": "2024-11-30T18:51:54.240037Z"
    }
   },
   "cell_type": "code",
   "source": [
    "#Create embeddings model\n",
    "from langchain_openai import OpenAIEmbeddings\n",
    "from langchain_experimental.text_splitter import SemanticChunker\n",
    "from langchain import hub\n",
    "from langchain_core.documents import Document\n",
    "from typing_extensions import TypedDict, List\n",
    "from langchain_core.vectorstores import InMemoryVectorStore\n",
    "import pandas as pd\n",
    "from langchain_core.prompts import PromptTemplate\n",
    "embeddings = OpenAIEmbeddings(model = \"text-embedding-3-large\", api_key=os.environ.get(\"KEY\"))"
   ],
   "id": "3d96c20c9ebf7517",
   "outputs": [],
   "execution_count": 71
  },
  {
   "metadata": {
    "ExecuteTime": {
     "end_time": "2024-11-30T18:59:37.684502Z",
     "start_time": "2024-11-30T18:59:37.390165Z"
    }
   },
   "cell_type": "code",
   "source": [
    "csv_string = pd.read_csv(\"/Users/devammondal/PycharmProjects/GSEAAnalysis/outputs/degs.csv\").to_string()\n",
    "cell_subtypes = \"NK cells\"\n",
    "experimental_description = \"Control vs Experimental IgG\"\n",
    "\n",
    "#Create schema for RAG system\n",
    "\n",
    "#First, create document loader.\n",
    "from langchain_community.document_loaders import PubMedLoader\n",
    "docs = PubMedLoader(f\"{cell_subtypes}\" + f\"{experimental_description}\").load_and_split(SemanticChunker(embeddings))\n",
    "#Create vector store\n",
    "vector_store = InMemoryVectorStore(embeddings)\n",
    "\n",
    "template = '''\n",
    "f\"Avoid filler statements, mention specific genes and relevant literature, cite your sources in the format of in line citations and at the end of the paper, focus only on immunology pathways, and give a 3 page paper in an IMRAD (introduction, methods, results, and discussion) format.\n",
    "{context}\n",
    "\n",
    "Question: {question}\n",
    "\n",
    "Answer: '''\n",
    "\n",
    "prompt = PromptTemplate.from_template(template)\n",
    "\n",
    "class State(TypedDict):\n",
    "    question: str\n",
    "    context: List[Document]\n",
    "    answer: str\n",
    "\n",
    "def retrieve(state: State):\n",
    "    retrieved_docs = vector_store.similarity_search(state[\"question\"])\n",
    "    return {\"context\": retrieved_docs}\n",
    "\n",
    "def generate(state: State):\n",
    "    docs_content = \"\\n\\n\".join(doc.page_content for doc in state[\"context\"])\n",
    "    messages = prompt.invoke({\"question\": state[\"question\"], \"context\": docs_content})\n",
    "    response = llm.invoke(messages)\n",
    "    return {\"answer\": response.content}"
   ],
   "id": "d5b63176a0dfe84f",
   "outputs": [],
   "execution_count": 96
  },
  {
   "metadata": {
    "ExecuteTime": {
     "end_time": "2024-11-30T18:59:38.191411Z",
     "start_time": "2024-11-30T18:59:38.188715Z"
    }
   },
   "cell_type": "code",
   "source": [
    "from langgraph.constants import START\n",
    "from langgraph.graph import StateGraph\n",
    "\n",
    "#generate graph\n",
    "graph_builder = StateGraph(State).add_sequence([retrieve, generate])\n",
    "graph_builder.add_edge(START, \"retrieve\")\n",
    "graph = graph_builder.compile()"
   ],
   "id": "2a2fab7c8b8fca0c",
   "outputs": [],
   "execution_count": 97
  },
  {
   "metadata": {
    "ExecuteTime": {
     "end_time": "2024-11-30T18:59:53.433698Z",
     "start_time": "2024-11-30T18:59:39.258926Z"
    }
   },
   "cell_type": "code",
   "source": [
    "response = graph.invoke({\"question\":f\"Given the following CSV of gene groups, whether they are upregulated or downregulated, as well as corresponding genes: \\n\\n{csv_string}\\n\\n, as well as that the cell type in question is \\n\\n{cell_subtypes}\\n\\n, given that {experimental_description}, propose new mechanisms for why this causes genes to be upregulated and down regulated using other relevant IMMUNOLOGY pathways found from the data provided.\"})\n",
    "print(response['answer'])"
   ],
   "id": "8fb9988b880f0813",
   "outputs": [
    {
     "name": "stdout",
     "output_type": "stream",
     "text": [
      "**Introduction**\n",
      "\n",
      "Natural Killer (NK) cells are critical components of the innate immune system, known for their ability to recognize and eliminate virally infected cells and tumor cells without prior sensitization. The regulation of gene expression in NK cells is crucial for their function and is influenced by various stimuli, including immunoglobulin G (IgG) interactions. This study aims to explore the differential gene expression in NK cells under experimental conditions involving IgG, focusing on the immunological pathways that may contribute to the observed upregulation and downregulation of specific genes.\n",
      "\n",
      "**Methods**\n",
      "\n",
      "The dataset provided includes gene expression data for NK cells under control and experimental IgG conditions. The analysis focused on genes with significant changes in expression, as indicated by log2 fold change and statistical significance (p-value). Genes with a log2 fold change greater than 0.5 and a p-value less than 0.05 were considered for further analysis. The identified genes were then mapped to known immunological pathways using databases such as KEGG and Reactome to propose potential mechanisms of regulation.\n",
      "\n",
      "**Results**\n",
      "\n",
      "The analysis identified several genes with significant changes in expression. Notably, genes such as *Nfkbia*, *Ifitm1*, and *Ly6c2* were upregulated, while genes like *Bcl2* and *Gzmd* were downregulated. The upregulation of *Nfkbia* suggests activation of the NF-κB signaling pathway, which is known to play a role in immune responses and inflammation (Hayden & Ghosh, 2008). The increased expression of *Ifitm1* is indicative of enhanced antiviral responses, as this gene is associated with the restriction of viral replication (Bailey et al., 2014). The upregulation of *Ly6c2* may be linked to increased cell adhesion and migration, processes essential for NK cell function (Hogarth & Pietersz, 2012).\n",
      "\n",
      "Conversely, the downregulation of *Bcl2* suggests a potential reduction in cell survival signaling, which could influence NK cell apoptosis (Cory & Adams, 2002). The decreased expression of *Gzmd* may reflect alterations in cytotoxic activity, as granzyme D is involved in inducing apoptosis in target cells (Chowdhury & Lieberman, 2008).\n",
      "\n",
      "**Discussion**\n",
      "\n",
      "The differential expression of genes in NK cells under experimental IgG conditions highlights several immunological pathways that may be modulated. The upregulation of *Nfkbia* and *Ifitm1* suggests an enhanced immune response, potentially increasing the NK cells' ability to respond to viral infections. The involvement of the NF-κB pathway is particularly significant, as it is a central regulator of immune responses and can be activated by various stimuli, including cytokines and pathogen-associated molecular patterns (Hayden & Ghosh, 2008).\n",
      "\n",
      "The downregulation of *Bcl2* and *Gzmd* may indicate a shift in the balance between NK cell survival and apoptosis, as well as a potential modulation of cytotoxic activity. This could be a mechanism to fine-tune the immune response, preventing excessive inflammation or tissue damage.\n",
      "\n",
      "Overall, the findings suggest that IgG interactions with NK cells can lead to significant changes in gene expression, influencing key immunological pathways. Further studies are needed to validate these findings and explore the functional consequences of these gene expression changes in NK cell activity.\n",
      "\n",
      "**References**\n",
      "\n",
      "- Bailey, C. C., Zhong, G., Huang, I. C., & Farzan, M. (2014). IFITM-family proteins: The cell's first line of antiviral defense. Annual Review of Virology, 1(1), 261-283.\n",
      "- Chowdhury, D., & Lieberman, J. (2008). Death by a thousand cuts: Granzyme pathways of programmed cell death. Annual Review of Immunology, 26, 389-420.\n",
      "- Cory, S., & Adams, J. M. (2002). The Bcl2 family: Regulators of the cellular life-or-death switch. Nature Reviews Cancer, 2(9), 647-656.\n",
      "- Hayden, M. S., & Ghosh, S. (2008). Shared principles in NF-κB signaling. Cell, 132(3), 344-362.\n",
      "- Hogarth, P. M., & Pietersz, G. A. (2012). Fc receptor-targeted therapies for the treatment of inflammation, cancer and beyond. Nature Reviews Drug Discovery, 11(4), 311-331.\n"
     ]
    }
   ],
   "execution_count": 98
  },
  {
   "metadata": {},
   "cell_type": "code",
   "outputs": [],
   "execution_count": null,
   "source": "",
   "id": "7727895b71b0f8be"
  }
 ],
 "metadata": {
  "kernelspec": {
   "display_name": "venv",
   "language": "python",
   "name": "venv"
  },
  "language_info": {
   "codemirror_mode": {
    "name": "ipython",
    "version": 2
   },
   "file_extension": ".py",
   "mimetype": "text/x-python",
   "name": "python",
   "nbconvert_exporter": "python",
   "pygments_lexer": "ipython2",
   "version": "2.7.6"
  }
 },
 "nbformat": 4,
 "nbformat_minor": 5
}
